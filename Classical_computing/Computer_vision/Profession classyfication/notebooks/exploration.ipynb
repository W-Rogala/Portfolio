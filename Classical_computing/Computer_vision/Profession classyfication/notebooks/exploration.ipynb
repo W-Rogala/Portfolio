{
 "cells": [
  {
   "cell_type": "markdown",
   "metadata": {},
   "source": [
    "# Profession Classifier - Data Exploration
",
    "
",
    "This notebook explores the idenprof dataset and visualizes the effects of data augmentation."
   ]
  },
  {
   "cell_type": "code",
   "execution_count": null,
   "metadata": {},
   "source": [
    "import os
",
    "import sys
",
    "import numpy as np
",
    "import matplotlib.pyplot as plt
",
    "
",
    "# Add project root to path
",
    "sys.path.append('..')
",
    "
",
    "from src.data.download import download_and_extract_idenprof
",
    "from src.data.preprocess import get_data_loaders, get_class_names"
   ]
  }
 ],
 "metadata": {
  "kernelspec": {
   "display_name": "Python 3",
   "language": "python",
   "name": "python3"
  },
  "language_info": {
   "codemirror_mode": {
    "name": "ipython",
    "version": 3
   },
   "file_extension": ".py",
   "mimetype": "text/x-python",
   "name": "python",
   "nbconvert_exporter": "python",
   "pygments_lexer": "ipython3",
   "version": "3.8.10"
  }
 },
 "nbformat": 4,
 "nbformat_minor": 4
}
